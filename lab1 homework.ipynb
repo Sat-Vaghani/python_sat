{
 "cells": [
  {
   "cell_type": "code",
   "execution_count": null,
   "id": "421b6627",
   "metadata": {},
   "outputs": [],
   "source": [
    "# Program 1\n",
    "a = float(input(\"Enter first number: \"))\n",
    "b = float(input(\"Enter second number: \"))\n",
    "print(\"Sum:\", a + b)"
   ]
  },
  {
   "cell_type": "code",
   "execution_count": null,
   "id": "2446f6d8",
   "metadata": {},
   "outputs": [],
   "source": [
    "# Program 2\n",
    "a = float(input(\"Enter first number: \"))\n",
    "b = float(input(\"Enter second number: \"))\n",
    "print(\"Difference:\", a - b)"
   ]
  },
  {
   "cell_type": "code",
   "execution_count": null,
   "id": "3988fb01",
   "metadata": {},
   "outputs": [],
   "source": [
    "# Program 3\n",
    "a = float(input(\"Enter first number: \"))\n",
    "b = float(input(\"Enter second number: \"))\n",
    "print(\"Product:\", a * b)"
   ]
  },
  {
   "cell_type": "code",
   "execution_count": null,
   "id": "0bfaca33",
   "metadata": {},
   "outputs": [],
   "source": [
    "# Program 4\n",
    "a = float(input(\"Enter numerator: \"))\n",
    "b = float(input(\"Enter denominator: \"))\n",
    "if b != 0:\n",
    "    print(\"Quotient:\", a / b)\n",
    "else:\n",
    "    print(\"Division by zero is not allowed.\")"
   ]
  },
  {
   "cell_type": "code",
   "execution_count": null,
   "id": "0294468d",
   "metadata": {},
   "outputs": [],
   "source": [
    "# Program 5\n",
    "a = float(input(\"Enter first number: \"))\n",
    "b = float(input(\"Enter second number: \"))\n",
    "if b != 0:\n",
    "    print(\"Sum:\", a + b)\n",
    "    print(\"Difference:\", a - b)\n",
    "    print(\"Product:\", a * b)\n",
    "    print(\"Quotient:\", a / b)\n",
    "else:\n",
    "    print(\"Division by zero is not allowed for the division operation.\")"
   ]
  },
  {
   "cell_type": "code",
   "execution_count": null,
   "id": "fb110637",
   "metadata": {},
   "outputs": [],
   "source": [
    "# Program 6\n",
    "hours = float(input(\"Enter hours: \"))\n",
    "print(\"Minutes:\", hours * 60)"
   ]
  },
  {
   "cell_type": "code",
   "execution_count": null,
   "id": "9a99a807",
   "metadata": {},
   "outputs": [],
   "source": [
    "# Program 7\n",
    "minutes = float(input(\"Enter minutes: \"))\n",
    "print(\"Hours:\", minutes / 60)"
   ]
  },
  {
   "cell_type": "code",
   "execution_count": null,
   "id": "a40f5f00",
   "metadata": {},
   "outputs": [],
   "source": [
    "# Program 8\n",
    "dollars = float(input(\"Enter dollars: \"))\n",
    "print(\"Rupees:\", dollars * 48)"
   ]
  },
  {
   "cell_type": "code",
   "execution_count": null,
   "id": "38bce651",
   "metadata": {},
   "outputs": [],
   "source": [
    "# Program 9\n",
    "rupees = float(input(\"Enter rupees: \"))\n",
    "print(\"Dollars:\", rupees / 48)"
   ]
  },
  {
   "cell_type": "code",
   "execution_count": null,
   "id": "39ac7bc6",
   "metadata": {},
   "outputs": [],
   "source": [
    "# Program 10\n",
    "dollars = float(input(\"Enter dollars: \"))\n",
    "rupees = dollars * 48\n",
    "pounds = rupees / 70\n",
    "print(\"Pounds:\", pounds)"
   ]
  },
  {
   "cell_type": "code",
   "execution_count": null,
   "id": "28d7b1ed",
   "metadata": {},
   "outputs": [],
   "source": [
    "# Program 11\n",
    "grams = float(input(\"Enter grams: \"))\n",
    "print(\"Kilograms:\", grams / 1000)"
   ]
  },
  {
   "cell_type": "code",
   "execution_count": null,
   "id": "3b620162",
   "metadata": {},
   "outputs": [],
   "source": [
    "# Program 12\n",
    "kgs = float(input(\"Enter kilograms: \"))\n",
    "print(\"Grams:\", kgs * 1000)"
   ]
  },
  {
   "cell_type": "code",
   "execution_count": null,
   "id": "51b73f78",
   "metadata": {},
   "outputs": [],
   "source": [
    "# Program 13\n",
    "bytes_val = float(input(\"Enter bytes: \"))\n",
    "print(\"KB:\", bytes_val / 1024)\n",
    "print(\"MB:\", bytes_val / (1024 ** 2))\n",
    "print(\"GB:\", bytes_val / (1024 ** 3))"
   ]
  },
  {
   "cell_type": "code",
   "execution_count": null,
   "id": "5ef30232",
   "metadata": {},
   "outputs": [],
   "source": [
    "# Program 14\n",
    "celsius = float(input(\"Enter Celsius: \"))\n",
    "fahrenheit = (9/5) * celsius + 32\n",
    "print(\"Fahrenheit:\", fahrenheit)"
   ]
  },
  {
   "cell_type": "code",
   "execution_count": null,
   "id": "c1f3f623",
   "metadata": {},
   "outputs": [],
   "source": [
    "# Program 15\n",
    "fahrenheit = float(input(\"Enter Fahrenheit: \"))\n",
    "celsius = 5/9 * (fahrenheit - 32)\n",
    "print(\"Celsius:\", celsius)"
   ]
  },
  {
   "cell_type": "code",
   "execution_count": null,
   "id": "b1d7266c",
   "metadata": {},
   "outputs": [],
   "source": [
    "# Program 16\n",
    "P = float(input(\"Enter principal amount: \"))\n",
    "R = float(input(\"Enter rate of interest: \"))\n",
    "N = float(input(\"Enter time period: \"))\n",
    "I = (P * R * N) / 100\n",
    "print(\"Interest:\", I)"
   ]
  },
  {
   "cell_type": "code",
   "execution_count": null,
   "id": "bac398ff",
   "metadata": {},
   "outputs": [],
   "source": [
    "# Program 17\n",
    "L = float(input(\"Enter side length of the square: \"))\n",
    "A = L ** 2\n",
    "P = 4 * L\n",
    "print(\"Area:\", A)\n",
    "print(\"Perimeter:\", P)"
   ]
  },
  {
   "cell_type": "code",
   "execution_count": null,
   "id": "2616201d",
   "metadata": {},
   "outputs": [],
   "source": [
    "# Program 18\n",
    "L = float(input(\"Enter length of the rectangle: \"))\n",
    "B = float(input(\"Enter breadth of the rectangle: \"))\n",
    "A = L * B\n",
    "P = 2 * (L + B)\n",
    "print(\"Area:\", A)\n",
    "print(\"Perimeter:\", P)"
   ]
  },
  {
   "cell_type": "code",
   "execution_count": null,
   "id": "c8a96e1e",
   "metadata": {},
   "outputs": [],
   "source": [
    "# Program 19\n",
    "R = float(input(\"Enter radius of the circle: \"))\n",
    "A = (22/7) * R * R\n",
    "print(\"Area:\", A)"
   ]
  },
  {
   "cell_type": "code",
   "execution_count": null,
   "id": "8c374f57",
   "metadata": {},
   "outputs": [],
   "source": [
    "# Program 20\n",
    "H = float(input(\"Enter height of the triangle: \"))\n",
    "L = float(input(\"Enter base of the triangle: \"))\n",
    "A = (H * L) / 2\n",
    "print(\"Area:\", A)"
   ]
  },
  {
   "cell_type": "code",
   "execution_count": null,
   "id": "3e706512",
   "metadata": {},
   "outputs": [],
   "source": [
    "# Program 21\n",
    "gross_salary = float(input(\"Enter gross salary: \"))\n",
    "allowance = 0.1 * gross_salary\n",
    "deduction = 0.03 * gross_salary\n",
    "net_salary = gross_salary + allowance - deduction\n",
    "print(\"Net Salary:\", net_salary)"
   ]
  },
  {
   "cell_type": "code",
   "execution_count": null,
   "id": "7b206e29",
   "metadata": {},
   "outputs": [],
   "source": [
    "# Program 22\n",
    "gross_sales = float(input(\"Enter gross sales: \"))\n",
    "discount = 0.1 * gross_sales\n",
    "net_sales = gross_sales - discount\n",
    "print(\"Net Sales:\", net_sales)"
   ]
  },
  {
   "cell_type": "code",
   "execution_count": null,
   "id": "a9c98c35",
   "metadata": {},
   "outputs": [],
   "source": [
    "# Program 23\n",
    "s1 = float(input(\"Enter marks for subject 1: \"))\n",
    "s2 = float(input(\"Enter marks for subject 2: \"))\n",
    "s3 = float(input(\"Enter marks for subject 3: \"))\n",
    "total = s1 + s2 + s3\n",
    "average = total / 3\n",
    "print(\"Total:\", total)\n",
    "print(\"Average:\", average)"
   ]
  },
  {
   "cell_type": "code",
   "execution_count": null,
   "id": "609cc39e",
   "metadata": {},
   "outputs": [],
   "source": [
    "# Program 24\n",
    "a = input(\"Enter first value: \")\n",
    "b = input(\"Enter second value: \")\n",
    "a, b = b, a\n",
    "print(\"After swapping:\")\n",
    "print(\"First value:\", a)\n",
    "print(\"Second value:\", b)"
   ]
  }
 ],
 "metadata": {},
 "nbformat": 4,
 "nbformat_minor": 5
}
