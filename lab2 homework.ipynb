{
 "cells": [
  {
   "cell_type": "code",
   "execution_count": null,
   "id": "d1529193",
   "metadata": {},
   "outputs": [],
   "source": [
    "\n",
    "# problem 1 \n",
    "num1 = int(input(\"First number: \"))\n",
    "num2 = int(input(\"Second number: \"))\n",
    "if num1 > num2:\n",
    "    print(\"largest:\", num1, \"smallest:\", num2)\n",
    "else:\n",
    "    print(\"largest:\", num2, \"smallest:\", num1)\n"
   ]
  },
  {
   "cell_type": "code",
   "execution_count": null,
   "id": "08b9a88f",
   "metadata": {},
   "outputs": [],
   "source": [
    "\n",
    "# problem 2\n",
    "num1 = int(input(\"Enter first : \"))\n",
    "num2 = int(input(\"Enter second : \"))\n",
    "num3 = int(input(\"Enter third : \"))\n",
    "if num1 > num2 and num1 > num3:\n",
    "    largest = num1\n",
    "elif num2 > num3:\n",
    "    largest = num2\n",
    "else:\n",
    "    largest = num3\n",
    "\n",
    "if num1 < num2 and num1 < num3:\n",
    "    smallest = num1\n",
    "elif num2 < num3:\n",
    "    smallest = num2\n",
    "else:\n",
    "    smallest = num3\n",
    "\n",
    "print(\"largest:\", largest, \"smallest:\", smallest)\n"
   ]
  },
  {
   "cell_type": "code",
   "execution_count": null,
   "id": "0a857eb2",
   "metadata": {},
   "outputs": [],
   "source": [
    "\n",
    "# problem 3\n",
    "input_number = int(input(\"Enter num1 number: \"))\n",
    "if input_number % 2 == 0:\n",
    "    print(\"even\")\n",
    "else:\n",
    "    print(\"odd\")\n"
   ]
  },
  {
   "cell_type": "code",
   "execution_count": null,
   "id": "e3374aec",
   "metadata": {},
   "outputs": [],
   "source": [
    "\n",
    "# problem 4\n",
    "input_number = int(input(\"number: \"))\n",
    "if input_number % 10 == 0:\n",
    "    print(\"divisible by 10\")\n",
    "else:\n",
    "    print(\"not divisible by 10\")\n"
   ]
  },
  {
   "cell_type": "code",
   "execution_count": null,
   "id": "afdb51e8",
   "metadata": {},
   "outputs": [],
   "source": [
    "\n",
    "# problem 5\n",
    "user_age = int(input(\"user_age: \"))\n",
    "if user_age < 18:\n",
    "    print(\"Minor\")\n",
    "else:\n",
    "    print(\"Major\")\n"
   ]
  },
  {
   "cell_type": "code",
   "execution_count": null,
   "id": "b1cc2254",
   "metadata": {},
   "outputs": [],
   "source": [
    "\n",
    "# problem 6\n",
    "input_number = input(\"number: \")\n",
    "print(\"Number of digits:\", len(input_number))\n"
   ]
  },
  {
   "cell_type": "code",
   "execution_count": null,
   "id": "3bba340f",
   "metadata": {},
   "outputs": [],
   "source": [
    "\n",
    "# problem 7\n",
    "year = int(input(\"Enter year: \"))\n",
    "if (year % 4 == 0 and year % 100 != 0) or (year % 400 == 0):\n",
    "    print(\"Leap Year\")\n",
    "else:\n",
    "    print(\"Not num1 Leap Year\")\n"
   ]
  },
  {
   "cell_type": "code",
   "execution_count": null,
   "id": "c5257e88",
   "metadata": {},
   "outputs": [],
   "source": [
    "\n",
    "# problem 8\n",
    "num1 = int(input(\"Enter first angle: \"))\n",
    "num2 = int(input(\"Enter second angle: \"))\n",
    "num3 = int(input(\"Enter third angle: \"))\n",
    "if num1 + num2 + num3 == 180:\n",
    "    print(\"Valid Triangle\")\n",
    "else:\n",
    "    print(\"Invalid Triangle\")\n"
   ]
  },
  {
   "cell_type": "code",
   "execution_count": null,
   "id": "3d64715c",
   "metadata": {},
   "outputs": [],
   "source": [
    "\n",
    "# problem 9\n",
    "input_number = int(input(\"Number: \"))\n",
    "if input_number < 0:\n",
    "    input_number = -input_number\n",
    "print(\"Absolute val:\", input_number)\n"
   ]
  },
  {
   "cell_type": "code",
   "execution_count": null,
   "id": "6b70ac37",
   "metadata": {},
   "outputs": [],
   "source": [
    "\n",
    "# problem 10\n",
    "l = int(input(\"Enter length: \"))\n",
    "num2 = int(input(\"Enter breadth: \"))\n",
    "area = l * num2\n",
    "perimeter = 2 * (l + num2)\n",
    "if area > perimeter:\n",
    "    print(\"Area is greater\")\n",
    "else:\n",
    "    print(\"Perimeter is greater\")\n"
   ]
  },
  {
   "cell_type": "code",
   "execution_count": null,
   "id": "f1a5f1d1",
   "metadata": {},
   "outputs": [],
   "source": [
    "\n",
    "# problem 11\n",
    "x1, y1 = map(int, input(\"Enter first point (x1 y1): \").split())\n",
    "x2, y2 = map(int, input(\"Enter second point (x2 y2): \").split())\n",
    "x3, y3 = map(int, input(\"Enter third point (x3 y3): \").split())\n",
    "if (y2 - y1) * (x3 - x1) == (y3 - y1) * (x2 - x1):\n",
    "    print(\"points are collinear\")\n",
    "else:\n",
    "    print(\"points are not collinear\")\n"
   ]
  },
  {
   "cell_type": "code",
   "execution_count": null,
   "id": "ade96b0a",
   "metadata": {},
   "outputs": [],
   "source": [
    "\n",
    "# problem 12\n",
    "import math\n",
    "cx, cy = map(int, input(\"Enter circle center (x y): \").split())\n",
    "r = int(input(\"Enter radius: \"))\n",
    "px, py = map(int, input(\"Enter point (x y): \").split())\n",
    "dist = math.sqrt((px - cx) ** 2 + (py - cy) ** 2)\n",
    "if dist < r:\n",
    "    print(\"point is inside the circle\")\n",
    "elif dist == r:\n",
    "    print(\"point is on the circle\")\n",
    "else:\n",
    "    print(\"point is outside the circle\")\n"
   ]
  },
  {
   "cell_type": "code",
   "execution_count": null,
   "id": "3713825e",
   "metadata": {},
   "outputs": [],
   "source": [
    "\n",
    "# problem 13\n",
    "input_number = int(input(\"Enter num1 number (0-19): \"))\n",
    "words = [\"zero\", \"one\", \"two\", \"three\", \"four\", \"five\", \"six\", \"seven\", \"eight\", \"nine\",\n",
    "         \"ten\", \"eleven\", \"twelve\", \"thirteen\", \"fourteen\", \"fifteen\", \"sixten\", \"seventen\", \"eighteen\", \"nineteen\"]\n",
    "if 0 <= input_number < 20:\n",
    "    print(words[input_number])\n",
    "else:\n",
    "    print(\"Out of range\")\n"
   ]
  },
  {
   "cell_type": "code",
   "execution_count": null,
   "id": "f6d3a478",
   "metadata": {},
   "outputs": [],
   "source": [
    "\n",
    "# problem 14\n",
    "s1 = int(input(\"Enter marks of subject 1: \"))\n",
    "s2 = int(input(\"Enter marks of subject 2: \"))\n",
    "s3 = int(input(\"Enter marks of subject 3: \"))\n",
    "\n",
    "total = s1 + s2 + s3\n",
    "avg = total / 3\n",
    "\n",
    "if s1 <= 39 or s2 <= 39 or s3 <= 39:\n",
    "    print(\"Fail\")\n",
    "else:\n",
    "    print(\"Pass\")\n",
    "\n",
    "def grade(m):\n",
    "    if m == -1:\n",
    "        return \"NA\"\n",
    "    elif m <= 39:\n",
    "        return \"F\"\n",
    "    elif m <= 44:\n",
    "        return \"P\"\n",
    "    elif m <= 49:\n",
    "        return \"C\"\n",
    "    elif m <= 54:\n",
    "        return \"B\"\n",
    "    elif m <= 59:\n",
    "        return \"B+\"\n",
    "    elif m <= 69:\n",
    "        return \"A\"\n",
    "    elif m <= 79:\n",
    "        return \"A+\"\n",
    "    else:\n",
    "        return \"O\"\n",
    "\n",
    "print(\"Total:\", total, \"Average:\", avg)\n",
    "print(\"Grades:\", grade(m1), grade(m2), grade(m3))\n"
   ]
  }
 ],
 "metadata": {
  "language_info": {
   "name": "python"
  }
 },
 "nbformat": 4,
 "nbformat_minor": 5
}
