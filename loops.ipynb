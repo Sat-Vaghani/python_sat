{
 "cells": [
  {
   "cell_type": "code",
   "execution_count": null,
   "id": "5363aaec",
   "metadata": {},
   "outputs": [],
   "source": [
    "\n",
    "#  1\n",
    "\n",
    "\n",
    "text = input(\"Enter a string: \")\n",
    "\n",
    "upper_case = text.upper()  # Converts the string to uppercase\n",
    "lower_case = text.lower()  # Converts the string to lowercase\n",
    "\n",
    "print(\"Upper Case:\", upper_case)\n",
    "print(\"Lower Case:\", lower_case)\n",
    "\n"
   ]
  },
  {
   "cell_type": "code",
   "execution_count": null,
   "id": "75b8cd78",
   "metadata": {},
   "outputs": [],
   "source": [
    "\n",
    "#  2\n",
    "num = int(input(\"Enter a number: \"))\n",
    "for i in range(1, 11):\n",
    "    print(num, \"x\", i, \"=\", num * i)\n"
   ]
  },
  {
   "cell_type": "code",
   "execution_count": null,
   "id": "786a4710",
   "metadata": {},
   "outputs": [],
   "source": [
    "\n",
    "#  3\n",
    "string = input(\"Enter a string: \")\n",
    "alphabets = 0\n",
    "digits = 0\n",
    "for char in string:\n",
    "    if 'A' <= char <= 'Z' or 'a' <= char <= 'z':\n",
    "        alphabets += 1\n",
    "    elif '0' <= char <= '9':\n",
    "        digits += 1\n",
    "print(\"Alphabets:\", alphabets)\n",
    "print(\"Digits:\", digits)\n"
   ]
  },
  {
   "cell_type": "code",
   "execution_count": null,
   "id": "3c663303",
   "metadata": {},
   "outputs": [],
   "source": [
    "\n",
    "#  4\n",
    "num = int(input(\"Enter a number: \"))\n",
    "\n",
    "\n",
    "is_prime = True\n",
    "if num > 1:\n",
    "    for i in range(2, num):\n",
    "        if num % i == 0:\n",
    "            is_prime = False\n",
    "            break\n",
    "else:\n",
    "    is_prime = False\n",
    "\n",
    "\n",
    "sum_factors = 0\n",
    "for i in range(1, num):\n",
    "    if num % i == 0:\n",
    "        sum_factors += i\n",
    "is_perfect = (sum_factors == num)\n",
    "\n",
    "\n",
    "temp = num\n",
    "sum_armstrong = 0\n",
    "while temp > 0:\n",
    "    digit = temp % 10\n",
    "    sum_armstrong += digit ** len(str(num))\n",
    "    temp //= 10\n",
    "is_armstrong = (sum_armstrong == num)\n",
    "\n",
    "\n",
    "is_palindrome = (str(num) == str(num)[::-1])\n",
    "\n",
    "\n",
    "is_automorphic = (str(num**2).endswith(str(num)))\n",
    "\n",
    "print(\"Prime:\", is_prime)\n",
    "print(\"Perfect:\", is_perfect)\n",
    "print(\"Armstrong:\", is_armstrong)\n",
    "print(\"Palindrome:\", is_palindrome)\n",
    "print(\"Automorphic:\", is_automorphic)\n"
   ]
  },
  {
   "cell_type": "code",
   "execution_count": null,
   "id": "a5e238ce",
   "metadata": {},
   "outputs": [],
   "source": [
    "\n",
    "#  5\n",
    "print(\"Pythagorean Triplets (a, b, c) with c <= 30:\")\n",
    "for a in range(1, 31):\n",
    "    for b in range(a, 31):\n",
    "        for c in range(b, 31):\n",
    "            if a**2 + b**2 == c**2:\n",
    "                print(a, b, c)\n"
   ]
  },
  {
   "cell_type": "code",
   "execution_count": null,
   "id": "ff870a88",
   "metadata": {},
   "outputs": [],
   "source": [
    "\n",
    "#  6\n",
    "for hour in range(24):\n",
    "    if hour == 0:\n",
    "        print(\"12 AM (Midnight)\")\n",
    "    elif hour < 12:\n",
    "        print(hour, \"AM\")\n",
    "    elif hour == 12:\n",
    "        print(\"12 PM (Noon)\")\n",
    "    else:\n",
    "        print(hour - 12, \"PM\")\n"
   ]
  },
  {
   "cell_type": "code",
   "execution_count": null,
   "id": "484d1348",
   "metadata": {},
   "outputs": [],
   "source": [
    "\n",
    "#  7\n",
    "n = int(input(\"Enter n: \"))\n",
    "r = int(input(\"Enter r: \"))\n",
    "fact_n = 1\n",
    "fact_r = 1\n",
    "fact_nr = 1\n",
    "\n",
    "for i in range(1, n+1):\n",
    "    fact_n *= i\n",
    "for i in range(1, r+1):\n",
    "    fact_r *= i\n",
    "for i in range(1, n-r+1):\n",
    "    fact_nr *= i\n",
    "\n",
    "nCr = fact_n // (fact_r * fact_nr)\n",
    "nPr = fact_n // fact_nr\n",
    "\n",
    "print(\"nCr:\", nCr)\n",
    "print(\"nPr:\", nPr)\n"
   ]
  },
  {
   "cell_type": "code",
   "execution_count": null,
   "id": "bc8819ed",
   "metadata": {},
   "outputs": [],
   "source": [
    "\n",
    "#  8\n",
    "num = int(input(\"Enter a number: \"))\n",
    "factorial = 1\n",
    "for i in range(1, num + 1):\n",
    "    factorial *= i\n",
    "print(\"Factorial of\", num, \"is\", factorial)\n"
   ]
  },
  {
   "cell_type": "code",
   "execution_count": null,
   "id": "9d4a53c8",
   "metadata": {},
   "outputs": [],
   "source": [
    "\n",
    "#  9\n",
    "N = int(input(\"Enter N: \"))\n",
    "for i in range(N, 0, -1):\n",
    "    print(i, end=\" \")\n",
    "print()\n"
   ]
  },
  {
   "cell_type": "code",
   "execution_count": null,
   "id": "d1b6f666",
   "metadata": {},
   "outputs": [],
   "source": [
    "\n",
    "#  10\n",
    "N = int(input(\"Enter N: \"))\n",
    "a, b = 0, 1\n",
    "for i in range(N):\n",
    "    print(a, end=\" \")\n",
    "    a, b = b, a + b\n",
    "print()\n"
   ]
  },
  {
   "cell_type": "code",
   "execution_count": null,
   "id": "9a80e2c3",
   "metadata": {},
   "outputs": [],
   "source": [
    "\n",
    "#  11\n",
    "x = float(input(\"Enter angle in degrees: \"))\n",
    "x = x * 3.14159 / 180  # Convert to radians\n",
    "\n",
    "sin_x = 0\n",
    "sign = 1\n",
    "for i in range(10):  # 10 terms of the series\n",
    "    term = 1\n",
    "    for j in range(1, 2*i+2):\n",
    "        term *= x / j\n",
    "    sin_x += sign * term\n",
    "    sign *= -1\n",
    "\n",
    "print(\"sin(x) =\", sin_x)\n"
   ]
  }
 ],
 "metadata": {
  "language_info": {
   "name": "python"
  }
 },
 "nbformat": 4,
 "nbformat_minor": 5
}
